{
 "cells": [
  {
   "cell_type": "markdown",
   "id": "e1b7a033",
   "metadata": {},
   "source": [
    "Name: Mayur Vora\n",
    "UNTid: 11550893\n",
    "Natural Language Processing"
   ]
  },
  {
   "cell_type": "code",
   "execution_count": 6,
   "id": "b26548cb",
   "metadata": {},
   "outputs": [
    {
     "name": "stderr",
     "output_type": "stream",
     "text": [
      "C:\\Users\\chris\\anaconda3\\lib\\site-packages\\scipy\\__init__.py:146: UserWarning: A NumPy version >=1.16.5 and <1.23.0 is required for this version of SciPy (detected version 1.23.2\n",
      "  warnings.warn(f\"A NumPy version >={np_minversion} and <{np_maxversion}\"\n"
     ]
    }
   ],
   "source": [
    "import pandas as pd\n",
    "import os\n",
    "import nltk\n",
    "import re\n",
    "import string"
   ]
  },
  {
   "cell_type": "code",
   "execution_count": 7,
   "id": "255e6167",
   "metadata": {},
   "outputs": [],
   "source": [
    "from nltk.corpus import PlaintextCorpusReader\n",
    "corpus = r\"C:\\Users\\chris\\blockchain.txt\"\n",
    "files = PlaintextCorpusReader(corpus, '.*')\n",
    "ngrams=2\n",
    "def generate(file, ngrams):\n",
    "    for gram in range(0, ngrams):\n",
    "        print((file[0:-4]+\"_\"+str(ngrams)+\"_grams.txt\").replace(\"/\",\"_\"))\n",
    "    for file in files.fieids():\n",
    "        generate(file, ngrams)"
   ]
  },
  {
   "cell_type": "markdown",
   "id": "7ff3d991",
   "metadata": {},
   "source": [
    "# finding the corpus length"
   ]
  },
  {
   "cell_type": "code",
   "execution_count": 8,
   "id": "0cab6ae7",
   "metadata": {
    "scrolled": true
   },
   "outputs": [
    {
     "data": {
      "text/plain": [
       "9863"
      ]
     },
     "execution_count": 8,
     "metadata": {},
     "output_type": "execute_result"
    }
   ],
   "source": [
    "corpusFile = open(os.path.abspath('blockchain.txt'),encoding=\"utf8\")\n",
    "corpus = corpusFile.read().split()\n",
    "len(corpus)"
   ]
  },
  {
   "cell_type": "code",
   "execution_count": 9,
   "id": "d82f8946",
   "metadata": {},
   "outputs": [],
   "source": [
    "import nltk.corpus"
   ]
  },
  {
   "cell_type": "code",
   "execution_count": 10,
   "id": "4aa17b74",
   "metadata": {},
   "outputs": [],
   "source": [
    "tokens = [word for word in corpus if word[0].isalpha() and word[-1].isalpha()]"
   ]
  },
  {
   "cell_type": "code",
   "execution_count": 11,
   "id": "e8b85d38",
   "metadata": {},
   "outputs": [
    {
     "data": {
      "text/plain": [
       "dict_items([('Towards', 2), ('a', 198), ('Framework', 3), ('for', 88), ('Understanding', 2), ('the', 634), ('Performance', 2), ('of', 359), ('Blockchains', 1), ('Iosif', 1), ('and', 358), ('Conference', 4), ('on', 64), ('Blockchain', 28), ('Research', 5), ('Applications', 2), ('Innovative', 2), ('Networks', 2), ('Services', 2), ('Distributed', 2), ('Ledger', 2), ('Technology', 5), ('appears', 1), ('to', 270), ('be', 59), ('at', 20), ('worldwide', 1), ('threshold', 1), ('acceptance', 1), ('Since', 2), ('their', 19), ('several', 10), ('innovative', 2), ('projects', 1), ('have', 27), ('been', 7), ('proposing', 1), ('solutions', 2), ('blockchain', 132), ('improving', 3), ('features', 1), ('its', 11), ('technical', 11), ('adoption', 2), ('as', 73), ('technology', 38), ('or', 22), ('software', 3), ('requires', 3), ('comprehensive', 2), ('understanding', 2), ('characterization', 1), ('principles', 3), ('The', 75), ('latter', 3), ('introduces', 4), ('an', 32), ('uncertainty', 1), ('organization', 1), ('decide', 1), ('which', 48), ('protocol', 9), ('best', 1), ('meets', 1), ('needs', 8), ('In', 26), ('there', 15), ('is', 176), ('lack', 7), ('proper', 2), ('testing', 4), ('engineering', 1), ('practices', 1), ('assessing', 1), ('usage', 2), ('blockchains', 3), ('that', 65), ('this', 43), ('paper', 6), ('presents', 2), ('architecture', 7), ('benchmarking', 6), ('framework', 10), ('aims', 4), ('deployment', 9), ('evaluation', 3), ('different', 21), ('focusing', 1), ('aspects', 3), ('such', 38), ('security', 14), ('A', 9), ('set', 7), ('modules', 3), ('introduced', 5), ('evaluating', 3), ('behaviour', 1), ('protocols', 6), ('under', 7), ('test', 7), ('distributed', 12), ('ledger', 6), ('often', 3), ('described', 2), ('shared', 3), ('database', 9), ('accessed', 3), ('maintained', 5), ('by', 31), ('possibly', 1), ('untrusted', 1), ('participants', 5), ('Each', 4), ('participant', 1), ('owns', 1), ('identical', 1), ('copy', 1), ('transactions', 12), ('over', 10), ('peer-to-peer', 1), ('All', 4), ('modifications', 1), ('additions', 1), ('are', 68), ('expressed', 1), ('immediately', 1), ('agreed', 1), ('among', 3), ('using', 3), ('consensus', 10), ('considered', 6), ('type', 2), ('was', 7), ('first', 8), ('within', 6), ('concept', 3), ('cryptocurrency', 3), ('while', 13), ('then', 5), ('has', 31), ('received', 2), ('lot', 4), ('attention', 4), ('due', 6), ('unique', 2), ('characteristics', 5), ('it', 50), ('decentralization', 4), ('decentralized', 8), ('nature', 7), ('lacks', 2), ('central', 3), ('authority', 3), ('synchronize', 1), ('state', 8), ('For', 14), ('systems', 5), ('implement', 6), ('responsible', 2), ('coordination', 1), ('validation', 1), ('propagated', 1), ('in', 145), ('algorithms', 1), ('provide', 9), ('reliability', 1), ('liveness', 1), ('network', 29), ('defend', 1), ('against', 4), ('malicious', 2), ('component', 2), ('many', 19), ('domains', 1), ('supply', 2), ('energy', 2), ('enterprises', 1), ('academic', 9), ('institutions', 4), ('conducting', 1), ('research', 10), ('how', 3), ('can', 43), ('used', 15), ('solving', 2), ('real-world', 1), ('challenges', 3), ('identity', 4), ('mismanagement', 1), ('digital', 39), ('copyright', 2), ('piracy', 1), ('issues', 5), ('Still', 1), ('wide', 2), ('still', 16), ('remains', 1), ('ongoing', 2), ('On', 3), ('choosing', 1), ('private', 12), ('Before', 2), ('deciding', 1), ('deploy', 3), ('questions', 1), ('need', 10), ('explored', 1), ('Why', 1), ('infrastructure', 8), ('How', 1), ('current', 8), ('Which', 1), ('suitable', 2), ('based', 11), ('requirements', 3), ('what', 3), ('extend', 1), ('does', 4), ('selected', 1), ('handles', 1), ('scalability', 3), ('attempt', 2), ('answer', 1), ('aforementioned', 3), ('proposed', 8), ('terms', 6), ('reliable', 1), ('achieving', 1), ('close-to-real', 1), ('serve', 2), ('staged', 1), ('environment', 3), ('supporting', 1), ('researchers', 10), ('developers', 11), ('validate', 1), ('performance', 7), ('various', 6), ('settings', 1), ('synthetic', 1), ('aim', 11), ('work', 13), ('monitoring', 4), ('comparing', 1), ('behavior', 2), ('each', 11), ('presence', 2), ('enable', 3), ('user', 13), ('monitor', 1), ('metrics', 3), ('identify', 1), ('potential', 5), ('bottlenecks', 2), ('RELATED', 1), ('WORK', 1), ('multiple', 7), ('studies', 3), ('regarding', 3), ('measuring', 2), ('Some', 3), ('these', 12), ('targeting', 1), ('public', 5), ('others', 2), ('BlockBench', 1), ('analyzing', 3), ('It', 18), ('adaptable', 1), ('integrating', 3), ('any', 10), ('measure', 1), ('fault', 1), ('tolerance', 1), ('authors', 4), ('urgent', 1), ('they', 7), ('studied', 2), ('Bitcoin', 7), ('affect', 5), ('overall', 2), ('throughput', 1), ('conducted', 2), ('propagation', 1), ('time', 12), ('blocks', 5), ('concluding', 1), ('fact', 2), ('primary', 4), ('cause', 3), ('They', 2), ('also', 30), ('demonstrated', 1), ('achieved', 2), ('pushing', 1), ('introducing', 1), ('unilateral', 1), ('changes', 2), ('client’s', 1), ('existing', 8), ('Proof', 3), ('Work', 1), ('deployments', 2), ('PoW', 1), ('compare', 2), ('trade-offs', 1), ('between', 9), ('BLOCKCKHAIN', 1), ('BECNHMARKING', 1), ('FRAMEWORK', 1), ('PROPOSITION', 1), ('Blockchain-based', 1), ('complex', 2), ('comprise', 1), ('components', 1), ('ranging', 1), ('from', 17), ('underlying', 6), ('communication', 2), ('cryptographic', 2), ('gossip', 1), ('virtual', 2), ('game', 1), ('theoretical', 2), ('most', 19), ('bootstrapping', 2), ('local', 1), ('use', 13), ('challenging', 4), ('even', 2), ('more', 23), ('implementations', 1), ('having', 1), ('isolated', 1), ('where', 4), ('you', 1), ('introduce', 4), ('source', 8), ('debug', 1), ('system', 29), ('without', 6), ('affecting', 1), ('implementation', 7), ('production', 2), ('Implementing', 1), ('considers', 2), ('design', 13), ('choices', 1), ('node’s', 1), ('usually', 2), ('consists', 2), ('nodes', 22), ('running', 1), ('machines', 1), ('around', 2), ('world', 1), ('high', 4), ('level', 2), ('distribution', 2), ('our', 10), ('published', 2), ('GitHub', 1), ('repository', 4), ('capable', 1), ('deploying', 2), ('full-mesh', 1), ('XRP', 1), ('with', 58), ('given', 3), ('number', 13), ('scripts', 1), ('developed', 5), ('generating', 1), ('traffic', 2), ('form', 5), ('payment', 1), ('capturing', 1), ('visualizing', 1), ('data', 32), ('produced', 1), ('well', 6), ('connectivity', 2), ('aiming', 2), ('adaptation', 1), ('rules', 7), ('during', 4), ('We', 15), ('note', 1), ('could', 12), ('adapted', 1), ('support', 4), ('Architecture', 2), ('Overview', 1), ('As', 8), ('depicted', 1), ('Figure', 5), ('comprised', 1), ('four', 3), ('main', 13), ('building', 2), ('These', 6), ('Control', 2), ('Configuration', 1), ('Validators', 2), ('Accounts', 2), ('Management', 5), ('Traffic', 2), ('Monitoring', 2), ('Benchmarking', 1), ('This', 24), ('module', 6), ('process', 12), ('generation', 1), ('configurations', 1), ('adapting', 1), ('nodes/validators', 1), ('enables', 3), ('dynamic', 1), ('spawn', 1), ('n', 1), ('act', 3), ('creating', 1), ('new', 15), ('accounts', 1), ('injecting', 1), ('towards', 2), ('brief', 1), ('gathers', 1), ('visualizations', 1), ('looking', 1), ('performed', 2), ('reads', 1), ('health', 1), ('participates', 3), ('CONCLUSIONS', 1), ('An', 3), ('provided', 2), ('showcase', 1), ('instantiation', 1), ('rippled', 1), ('future', 6), ('we', 39), ('working', 2), ('extending', 2), ('providing', 3), ('other', 26), ('ultimately', 3), ('common', 5), ('ground', 1), ('performing', 3), ('benchmarks', 1), ('stress', 1), ('scenarios', 1), ('simulate', 1), ('close', 1), ('real', 3), ('Peer', 3), ('Review', 2), ('Aggregation', 2), ('utilizing', 2), ('Uzdoğan', 1), ('Abstract—It', 1), ('widely', 3), ('accepted', 2), ('peer', 37), ('review', 30), ('important', 6), ('maintain', 2), ('quality', 2), ('integrity', 1), ('scholarly', 3), ('recognition', 3), ('discoverability', 3), ('reviews', 4), ('systematic', 1), ('way', 3), ('because', 8), ('multitude', 2), ('stakeholders', 6), ('discrepancies', 1), ('report', 2), ('propose', 2), ('blockchain-enabled', 1), ('application', 23), ('called', 3), ('PeerView', 2), ('empowers', 1), ('integrate', 2), ('access', 9), ('information', 25), ('autonomous', 2), ('ensures', 4), ('no', 7), ('individual', 2), ('entity', 2), ('will', 22), ('complete', 6), ('ownership', 2), ('valuable', 2), ('contained', 1), ('ensuring', 3), ('properly', 2), ('initial', 2), ('prototype', 2), ('along', 3), ('integration', 3), ('open', 7), ('PROBLEM', 1), ('STATEMENT', 1), ('OVERVIEW', 1), ('help', 7), ('ensure', 11), ('soundness', 1), ('scientific', 12), ('community', 1), ('part', 4), ('publishing', 3), ('vital', 1), ('problems', 8), ('bias', 1), ('general', 1), ('inconsistency', 1), ('ineffective', 1), ('detecting', 1), ('errors', 2), ('Due', 3), ('blinded', 1), ('publicly', 2), ('thus', 1), ('difficult', 6), ('credit', 2), ('detail', 1), ('scale', 2), ('incentivizing', 1), ('reviewing', 1), ('via', 1), ('attribution', 2), ('encourage', 3), ('participate', 4), ('generally', 5), ('not', 29), ('when', 6), ('scientists', 3), ('evaluate', 2), ('publication', 3), ('citation', 1), ('counts', 2), ('Journal', 1), ('Impact', 1), ('Factor', 1), ('journals', 1), ('Many', 3), ('instance', 1), ('count', 3), ('utilized', 3), ('give', 2), ('holistic', 1), ('overview', 1), ('scientist’s', 1), ('contributions', 1), ('limited', 1), ('difficultly', 1), ('innate', 1), ('usual', 1), ('confidential', 1), ('By', 1), ('minimizing', 1), ('better', 7), ('insight', 1), ('into', 13), ('researcher’s', 1), ('body', 1), ('order', 6), ('effectively', 4), ('bring', 4), ('efforts', 2), ('organizations', 1), ('solve', 2), ('majority', 1), ('them', 4), ('centralized', 4), ('aggregate', 1), ('sources', 1), ('means', 2), ('single', 5), ('controls', 1), ('decides', 1), ('constitutes', 1), ('who', 3), ('add', 3), ('diverse', 1), ('stakeholder', 2), ('setting', 2), ('ecosystem', 1), ('include', 6), ('funding', 1), ('governmental', 1), ('variety', 2), ('necessity', 2), ('analyze', 5), ('aggregated', 3), ('perform', 7), ('publishers', 1), ('relinquishing', 1), ('control', 2), ('third-party', 4), ('entities', 2), ('hold', 1), ('monopoly', 2), ('improved', 2), ('should', 7), ('built', 1), ('governance', 3), ('mind', 1), ('construct', 2), ('upon', 1), ('immutable', 2), ('shown', 4), ('effective', 3), ('enhancing', 1), ('provenance', 1), ('point', 2), ('failure', 2), ('restrict', 1), ('exists', 2), ('Building', 1), ('aggregation', 1), ('holds', 1), ('own', 2), ('silos', 1), ('larger', 2), ('redundancy', 2), ('case', 2), ('facilitates', 1), ('long', 2), ('term', 1), ('outlook', 1), ('regards', 2), ('persistence', 1), ('utilize', 2), ('bloxberg', 4), ('governed', 1), ('institutes', 1), ('comparison', 1), ('networks', 1), ('Ethereum', 10), ('proof', 5), ('uses', 4), ('proof-ofauthority', 1), ('AuRa', 1), ('alternative', 3), ('algorithm', 2), ('every', 3), ('node', 14), ('validates', 2), ('known', 1), ('model', 7), ('works', 3), ('continually', 1), ('line', 2), ('SYSTEM', 1), ('DESIGN', 1), ('integrations', 2), ('service', 3), ('providers', 1), ('overcome', 1), ('particularly', 1), ('Our', 1), ('target', 1), ('users', 6), ('whom', 1), ('unfamiliar', 1), ('complexities', 1), ('may', 9), ('goal', 1), ('usability', 2), ('experience', 2), ('similar', 2), ('typical', 3), ('web', 3), ('applications', 5), ('don’t', 4), ('From', 3), ('plan', 4), ('further', 5), ('explore', 1), ('additional', 1), ('interact', 1), ('must', 9), ('compatible', 1), ('One', 3), ('Magic', 1), ('Fortmatic', 1), ('passwordless', 1), ('solution', 2), ('functionality', 1), ('injected', 1), ('login', 1), ('greatly', 2), ('enhances', 1), ('user-friendliness', 1), ('abstracting', 1), ('away', 2), ('processes', 1), ('cost', 3), ('custodying', 1), ('keys', 2), ('Users', 3), ('willing', 1), ('manage', 4), ('option', 1), ('browser', 1), ('wallet', 1), ('Metamask', 1), ('build', 6), ('top', 3), ('ideal', 1), ('area', 1), ('smart', 44), ('contract', 15), ('written', 2), ('Solidity', 6), ('serves', 1), ('back-end', 1), ('enabling', 1), ('storage', 5), ('interaction', 6), ('declares', 1), ('basic', 4), ('includes', 8), ('attributable', 1), ('URL', 1), ('attributes', 2), ('kept', 1), ('minimal', 1), ('accommodate', 1), ('Besides', 1), ('personally', 1), ('identifiable', 1), ('stored', 2), ('MongoDB', 1), ('fully', 2), ('functional', 2), ('replaced', 1), ('file', 2), ('IPFS', 1), ('To', 5), ('interactions', 1), ('external', 1), ('Express', 1), ('server', 3), ('expect', 1), ('indexing', 2), ('indexes', 1), ('events', 1), ('allows', 4), ('volume', 1), ('querying', 1), ('strengthen', 2), ('demonstrate', 1), ('feasibility', 1), ('live', 1), ('platform', 4), ('API', 1), ('F1000Research', 2), ('provides', 9), ('all', 13), ('elements', 1), ('versions', 1), ('articles', 1), ('feedback', 1), ('author', 1), ('import', 1), ('previously', 2), ('done', 1), ('identified', 1), ('problem', 5), ('encounter', 1), ('interacting', 1), ('blockchain-based', 2), ('namely', 1), ('managing', 2), ('gas', 2), ('alleviate', 1), ('instantiate', 1), ('Gas', 1), ('Station', 1), ('Relay', 1), ('Network', 1), ('abstracts', 1), ('holding', 2), ('simply', 2), ('funded', 1), ('enough', 1), ('pay', 3), ('costs', 3), ('sign', 1), ('transaction', 12), ('profile', 1), ('lieu', 1), ('Digital', 3), ('Finance', 2), ('Based', 6), ('International', 3), ('Financial', 2), ('Development', 2), ('Abstract—Blockchain', 1), ('tamper', 2), ('establish', 3), ('financial', 40), ('asset', 10), ('management', 11), ('automatically', 1), ('docking', 2), ('assets', 6), ('industrial', 4), ('forms', 1), ('realize', 6), ('automatic', 1), ('mapping', 1), ('circulation', 2), ('create', 4), ('economic', 2), ('digitization', 1), ('attracted', 1), ('much', 1), ('but', 21), ('development', 16), ('inconsistent', 1), ('chaotic', 1), ('derivative', 1), ('threats', 1), ('difficulty', 2), ('so', 8), ('physical', 1), ('business', 3), ('products', 2), ('implemented', 3), ('market', 4), ('analyzes', 1), ('cases', 3), ('pain', 1), ('points', 1), ('corresponding', 5), ('INTRODUCTION', 2), ('one', 9), ('representative', 1), ('achievements', 1), ('fourth', 1), ('core', 10), ('trigger', 1), ('fifth', 1), ('wave', 1), ('disruptive', 2), ('recent', 5), (\"China's\", 3), ('finance', 13), ('refers', 1), ('traditional', 5), ('Internet', 7), ('companies', 2), ('investment', 2), ('appeared', 1), ('mainly', 5), ('make', 1), ('up', 4), ('shortcomings', 2), ('gradually', 1), ('became', 2), ('force', 2), ('especially', 2), ('field', 5), ('breaks', 1), ('space', 1), ('customer', 1), ('exclusion', 1), ('making', 2), ('After', 5), ('previous', 1), ('now', 1), ('rapidly', 1), ('intelligent', 1), ('chain', 16), ('regulatory', 4), ('At', 15), ('same', 13), ('far', 1), ('being', 3), ('international', 2), ('Major', 1), ('countries', 1), ('including', 5), ('seizing', 1), ('opportunity', 1), ('compete', 1), ('commanding', 1), ('heights', 1), ('news', 1), ('start-ups', 1), ('about', 2), ('currency', 1), ('trading', 3), ('emerging', 5), ('after', 5), ('few', 5), ('really', 1), ('tested', 1), ('article', 6), (\"Bubi's\", 1), ('methods', 3), ('perspectives', 1), ('through', 5), ('Bubi', 1), ('hoping', 1), ('enlightenment', 1), ('BLOCKCHAIN', 2), ('CONCEPT', 1), ('AND', 2), ('A)The', 1), ('formed', 1), ('linking', 1), ('generated', 3), ('chronological', 1), ('contain', 1), ('certain', 7), ('period', 2), ('cannot', 7), ('tampered', 1), ('rights', 2), ('obligations', 1), ('entire', 5), ('authenticity', 2), ('consistency', 1), ('verified', 6), ('third', 5), ('industry', 4), ('believes', 1), ('relies', 2), ('intermediaries', 2), ('reduce', 4), ('adverse', 1), ('selection', 1), ('moral', 1), ('allocate', 1), ('improve', 8), ('achieve', 2), ('cryptography', 1), ('global', 1), ('value', 3), ('transfer', 1), ('gets', 1), ('rid', 1), ('dependence', 1), ('established', 1), ('logical', 1), ('Characteristics', 1), ('peer-topeer', 1), ('trust', 1), ('equal', 1), ('follow', 2), ('participation', 1), ('operation', 5), ('attacked', 1), ('organically', 1), ('combine', 1), ('practical', 5), ('feasible', 2), ('path', 1), ('Not', 1), ('only', 18), ('degrees', 2), ('specifically', 2), ('weak', 2), ('You', 1), ('choose', 1), ('appropriate', 1), ('degree', 14), ('When', 4), ('block', 2), ('update', 5), ('Data', 3), ('proof-of-work', 1), ('mechanism', 5), ('makes', 4), ('possible', 5), ('change', 1), ('least', 1), ('continues', 2), ('highly', 2), ('except', 1), ('involving', 2), ('transparent', 1), ('If', 3), ('wants', 3), ('query', 3), ('relevant', 8), ('develop', 5), ('blockchain-related', 1), ('Among', 1), ('micro-enterprise', 1), ('bank', 3), ('draft', 1), ('THE', 1), ('DEVELOPMENT', 1), ('DILEMMA', 1), ('OF', 2), ('DIGITAL', 1), ('FINANCE', 1), ('BASED', 1), ('ON', 1), ('TECHNOLOGY', 1), ('special', 1), ('laws', 6), ('included', 2), ('legal', 7), ('perspective', 1), ('supervision', 9), ('major', 2), ('deficiencies', 1), ('relatively', 2), ('vague', 1), ('almost', 3), ('impossible', 1), ('rely', 1), ('once', 1), ('related', 11), ('loss', 1), ('seriously', 1), ('enthusiasm', 1), ('First', 1), ('conflict', 1), ('law', 1), ('contracts', 62), ('resolve', 1), ('necessary', 4), ('do', 4), ('good', 2), ('job', 4), ('determining', 1), ('effect', 1), ('undisclosed', 2), ('whether', 3), ('basis', 3), ('fulfilling', 2), ('stability', 1), ('prosperity', 1), ('formulate', 4), ('detailed', 3), ('applicable', 1), ('regulations', 5), ('Security', 5), ('stipulates', 1), ('individuals', 1), ('right', 3), ('require', 2), ('operators', 1), ('delete', 3), ('correct', 1), ('personal', 2), ('accordance', 1), ('modify', 2), ('than', 5), ('Once', 3), ('hinders', 1), ('exercising', 1), ('obligation', 1), ('impact', 3), ('low', 1), ('large-scale', 2), ('yet', 1), ('able', 1), ('meet', 2), ('required', 2), ('securities', 2), ('seems', 1), ('settlement', 2), ('intermediate', 1), ('insurance', 4), (\"customer's\", 1), ('saved', 1), ('greater', 1), ('computing', 2), ('Mass', 1), ('hidden', 2), ('dangers', 1), ('transmission', 1), ('increase', 1), ('claims', 1), ('take', 3), ('reduces', 2), ('operating', 1), ('efficiency', 2), ('sound', 1), ('healthy', 3), ('inseparable', 1), ('loopholes', 1), ('controllability', 1), ('controlling', 1), ('parties', 3), ('conspire', 1), ('agreement', 1), ('harm', 1), ('interests', 1), ('defects', 1), ('secret', 2), ('key', 9), ('conduct', 4), ('supervisory', 1), ('find', 2), ('short', 1), ('increases', 2), ('irreparable', 1), ('losses', 1), ('Because', 1), ('tamper-proof', 1), ('modification', 1), ('prevents', 1), ('recovering', 2), ('identities', 1), ('changing', 1), ('unable', 3), ('read', 2), ('store', 4), ('let', 1), ('alone', 1), ('declare', 1), ('property', 1), ('huge', 2), ('raises', 1), ('COUNTERMEASURE', 1), ('ANALYSIS', 1), ('Improve', 2), ('although', 2), ('China', 6), ('made', 4), ('preliminary', 1), ('attempts', 1), ('theory', 1), ('practice', 1), ('formulated', 4), ('following', 3), ('legislation', 1), ('computer', 1), ('promulgated', 1), ('Cyber', 1), ('Electronic', 3), ('Commerce', 1), ('Signature', 1), ('administrative', 1), ('Regulations', 2), ('Protection', 2), ('Computer', 1), ('Information', 5), ('Measures', 2), ('Administration', 1), ('constant', 1), ('regulation', 1), ('relative', 1), ('lag', 1), ('formulation', 1), ('emergence', 1), ('gradual', 1), ('promotion', 1), ('continue', 2), ('upper', 1), ('regulate', 2), ('macro', 1), ('timely', 4), ('Central', 1), ('Bank', 5), ('Implementation', 1), ('Rights', 1), ('Interests', 1), ('State', 2), ('Office', 1), ('issued', 4), ('great', 2), ('significance', 1), ('maintaining', 1), ('regulating', 1), ('continuous', 2), ('guide', 2), ('orderly', 2), ('Supreme', 1), (\"People's\", 1), ('Court', 1), ('judicial', 1), ('interpretation', 1), ('Several', 1), ('Issues', 1), ('Concerning', 1), ('Trial', 1), ('Cases', 1), ('electronic', 6), ('evidence', 2), ('competent', 1), ('authorities', 1), ('notices', 1), ('Preventing', 3), ('Risk', 1), ('Token', 8), ('Issuance', 1), ('Tips', 1), ('Illegal', 1), ('Fund-raising', 1), ('Name', 1), ('Blockchainrelated', 1), ('industries', 3), ('advance', 2), ('explorations', 1), ('standardization', 1), ('specifications', 1), ('released', 2), ('materials', 1), ('Application', 1), ('White', 1), ('Reference', 2), ('Format', 1), ('guiding', 1), ('With', 3), ('deepening', 2), ('departments', 1), ('full', 1), ('trend', 6), ('Strengthen', 1), ('technological', 2), ('innovation', 3), ('issue', 2), ('hindering', 1), ('Technological', 1), ('instability', 1), ('platforms', 2), ('result', 1), ('slow', 2), ('stagnant', 1), ('R&D', 1), ('break', 1), ('interconnection', 1), ('technologies', 5), ('mechanisms', 1), ('Chinese', 1), ('standards', 3), ('invest', 3), ('situations', 2), ('finding', 2), ('recommended', 1), ('domestic', 1), ('universities', 1), ('together', 1), ('reasonable', 2), ('implementable', 1), ('standard', 4), ('put', 1), ('specific', 9), ('analyzed', 1), ('adjustable', 1), ('bottom', 2), ('systemic', 1), ('risks', 5), ('principle', 1), ('subdivision', 1), ('guidelines', 1), ('long-term', 1), ('large', 1), ('continuously', 1), ('early', 4), ('stage', 3), ('government', 1), ('policies', 2), ('focus', 2), ('appropriately', 1), ('overly', 1), ('strict', 1), ('conducive', 1), ('hinder', 1), ('too', 1), ('unknowns', 1), ('generate', 3), ('Too', 1), ('loose', 1), ('audit', 1), (\"government's\", 1), ('controllable', 1), ('agencies', 1), ('mature', 1), ('trap', 1), ('cooperate', 1), ('in-event', 1), ('post-event', 1), ('learn', 1), ('sandbox', 1), ('promote', 1), ('steady', 1), ('CONCLUSION', 2), ('Enlightenment', 1), ('era', 2), ('undergone', 1), ('exploratory', 1), ('relations', 1), ('driving', 1), ('leading', 2), ('transformation', 1), ('undertake', 1), ('conversion', 1), ('old', 1), ('kinetic', 1), ('national', 1), ('strategic', 1), ('Its', 2), ('immeasurable', 1), ('impetus', 1), ('becoming', 2), (\"world's\", 1), ('catalyst', 1), ('credible', 1), ('accelerates', 1), ('promotes', 1), ('services', 1), ('relationship', 1), ('two', 6), ('Deep', 1), ('E-Chain', 1), ('Degree', 4), ('Certification', 8), ('System', 5), ('Qi', 1), ('Most', 1), ('certification', 22), ('B/S', 1), ('structure', 4), ('Web', 1), ('functions', 1), ('permissions', 2), ('unreliable', 1), ('tampering', 2), ('response', 1), ('above', 3), ('advantages', 1), ('traceability', 1), ('college', 2), ('student', 7), ('Combining', 1), ('CA', 12), ('involved', 1), ('files', 3), ('Introduction', 1), ('Academic', 1), ('Ministry', 2), ('manifestation', 1), ('inquiry', 1), ('Education', 2), ('Center', 1), ('certificate', 6), ('according', 3), (\"user's\", 1), ('electronically', 1), ('registering', 1), ('online', 1), ('rapid', 1), ('easy', 1), ('hard', 2), ('becomes', 2), ('increasingly', 1), ('phenomenon', 1), ('June', 1), ('authoritative', 1), ('reports', 2), ('people', 1), ('entered', 1), ('school', 1), ('recruitment', 1), ('websites', 1), ('leaked', 1), ('resumes', 1), ('like', 8), ('negative', 1), ('tendency', 1), ('diploma', 1), ('simple', 1), ('falsifying', 1), ('strong', 2), ('lessen', 1), ('fraud', 2), ('privacy', 5), ('authentication', 6), ('realizes', 1), ('trusted', 3), ('method', 3), ('party', 3), ('some', 5), ('high-frequency', 1), ('scenario', 1), ('Chuntian', 1), ('Zhou', 1), ('et', 1), ('adopts', 4), ('credibility', 1), ('measurement', 1), ('might', 2), ('avoid', 1), ('employer', 3), ('end', 1), ('guarantee', 1), ('divided', 4), ('off-chain', 4), ('MIT', 1), ('Media', 1), ('Lab', 1), ('project', 2), ('certificates', 3), ('amount', 4), ('illegal', 1), ('record', 3), ('education', 2), ('recording', 1), ('needed', 1), ('inefficiency', 1), ('factor', 1), ('limiting', 1), ('show', 1), ('safe', 2), ('program', 2), ('three', 7), ('Through', 1), ('mobile', 1), ('client', 1), ('convenient', 1), ('students', 1), ('units', 1), ('section', 1), ('hybrid', 2), ('zero-knowledge', 7), ('workflow', 1), ('Mixed', 1), ('Mode', 1), ('side', 4), ('dual-chain', 1), ('mode', 1), ('combing', 1), ('types', 5), ('channels', 1), ('regardless', 1), ('verification', 5), ('necessarily', 1), ('validity', 4), ('constructed', 1), ('consortium', 1), ('jointly', 1), ('initiated', 1), ('authorized', 1), ('centres', 1), ('giving', 2), ('consider', 1), ('expand', 1), ('alliance', 5), (\"node's\", 1), ('pressure', 1), ('normally', 1), ('invalid', 1), ('Alliance', 1), ('Chain', 4), ('Node', 2), ('Type', 1), ('write', 1), ('assign', 1), ('enjoy', 1), ('But', 1), ('ordinary', 1), ('view', 1), ('recorded', 1), (\"people's\", 1), ('chains', 2), ('Private', 1), ('refer', 1), ('contribute', 1), ('resources', 1), ('join', 2), ('Channel', 1), ('equivalent', 2), ('calculations', 1), ('Such', 1), ('very', 6), ('deploys', 1), ('small', 2), ('channel', 2), ('on-chain', 1), ('avoiding', 1), ('submit', 1), ('final', 1), ('workload', 1), ('both', 4), ('completed', 1), ('realizing', 1), ('immediate', 1), ('faster', 1), ('lower', 1), ('handling', 1), ('Considering', 2), ('decided', 3), ('anti-counterfeiting', 1), ('Third-Party', 1), ('There', 4), ('officiality', 1), ('prevent', 2), ('authenticate', 2), ('Certificate', 1), ('combination', 1), ('verify', 2), ('operated', 1), ('eliminate', 1), ('risk', 1), ('attacking', 1), ('Zero-Knowledge', 1), ('premise', 1), ('stipulated', 1), ('shall', 2), ('employers', 2), ('Zero', 1), ('Knowledge', 1), ('applying', 1), ('send', 4), ('M', 1), ('acts', 1), ('signature', 2), ('r', 2), ('s', 3), ('receives', 2), ('he', 1), ('chooses', 1), ('series', 1), ('random', 1), ('starts', 1), ('his', 3), ('generates', 1), ('Students', 1), ('tunnels', 1), ('b', 1), ('legitimate', 1), ('connection', 1), ('Authentication', 1), ('Forwarding', 1), ('Workflow', 1), ('three-layer', 1), ('separation', 1), ('Verification', 1), ('forwarded', 1), ('verifications', 1), ('flow', 1), ('forwarding', 1), ('auxiliary', 1), ('inspection', 1), ('Test', 2), (\"system's\", 1), ('items', 2), ('Setup', 1), ('Parallel', 1), ('Execution', 1), ('Efficiency', 1), ('Smart', 10), ('Contracts', 4), ('Use', 2), ('execute', 2), ('average', 1), ('Transaction', 1), ('Success', 1), ('Rate', 1), ('Under', 1), ('success', 1), ('rate', 1), ('Contract', 1), ('integer', 1), ('spending', 1), ('symbolic', 1), ('taint', 1), ('analysis', 3), ('attacks', 1), ('Conclusion', 1), ('records', 1), ('locked', 1), ('links', 1), ('parallel', 1), ('Using', 1), ('anytime', 1), ('anywhere', 1), ('reducing', 1), ('possibility', 2), ('idea', 3), ('inspire', 1), ('apply', 1), ('construction', 1), ('Repository', 2), ('Top', 2), ('Trending', 2), ('IEEE/ACM', 1), ('Workshop', 1), ('Emerging', 1), ('Trends', 1), ('Software', 1), ('Engineering', 1), ('ABSTRACT', 1), ('spread', 1), ('quickly', 1), ('last', 5), ('years', 4), ('become', 1), ('popular', 8), ('trends', 8), ('supported', 1), ('developing', 2), ('informatics', 1), ('higher', 1), ('associated', 6), ('bargaining', 2), ('increased', 5), ('keep', 3), ('track', 3), ('programming', 1), ('proposes', 2), ('dataset', 7), ('containing', 2), ('categories', 9), ('five', 1), ('collection', 4), ('programs', 17), ('contains', 5), ('Non-Fungible-Token', 1), ('whose', 5), ('popularity', 3), ('since', 9), ('appearance', 3), ('general-purpose', 1), ('allow', 2), ('secure', 1), ('advantage', 4), ('referring', 1), ('collect', 4), ('exploit', 2), ('games', 2), ('gambling', 5), ('skill', 2), ('usages', 1), ('versatile', 1), ('sometimes', 2), ('developement', 1), ('influenced', 1), ('cryptocurrencies', 1), ('prices', 1), ('Non-Fungible-Tokens', 1), ('NFTs', 4), ('dates', 2), ('back', 1), ('Cryptokitties', 2), ('started', 2), ('certify', 1), ('therefore', 1), ('revolutionized', 1), ('Those', 2), ('listed', 2), ('During', 1), ('were', 4), ('distribute', 1), ('money', 4), ('Other', 1), ('classes', 1), ('patterns', 3), ('simplifying', 2), ('certifying', 2), ('ICO', 4), ('Coin', 1), ('crowdfunding', 2), ('token', 8), ('differences', 1), ('tokens', 5), ('Crowdsales', 1), ('Another', 4), ('significant', 4), ('difference', 1), ('selling', 1), ('linked', 1), ('Crowdsale', 1), ('sale', 1), ('Role', 1), ('Playing', 1), ('card', 1), ('role', 2), ('playing', 2), ('shop', 1), ('exclusively', 2), ('pretty', 3), ('libraries', 2), ('unusual', 1), ('basically', 1), ('library', 1), ('unless', 1), ('well-defined', 1), ('SafeMath', 1), ('direct', 1), ('consequence', 1), ('spot', 2), ('statistical', 2), ('primarily', 1), ('deployed', 2), ('advantageous', 1), ('datasets', 4), ('would', 4), ('retrieving', 1), ('categorizations', 1), ('correspond', 1), ('trending', 2), ('STATE', 1), ('ART', 1), ('already', 4), ('repositories', 4), ('Corpus', 1), ('up-to-date', 1), ('efficiently', 1), ('systematically', 1), ('code', 3), ('metadata', 1), ('Bugs', 2), ('vulnerable', 1), ('vulnerability', 1), ('exposed', 1), ('subset', 1), ('interesting', 5), ('impressive', 1), ('samples', 8), ('Sanctuary', 1), ('available', 6), ('Reddit', 1), ('Github', 2), ('Binance', 1), ('collecting', 1), ('taking', 2), ('sure', 2), ('can’t', 1), ('beneficial', 1), ('retrieve', 5), ('look', 1), ('organized', 2), ('Given', 1), ('increasing', 1), ('quite', 1), ('task', 1), ('essential', 1), ('categorize', 4), ('helpful', 1), ('purposes', 1), ('helps', 1), ('RESEARCH', 1), ('METHODOLOGY', 1), ('chapter', 1), ('methodology', 1), ('purpose', 2), ('step', 2), ('sufficient', 1), ('Exploratory', 1), ('Analysis', 1), ('merged', 1), ('counting', 1), ('respectively', 1), ('incorporating', 1), ('retrieved', 2), ('merging', 1), ('spotting', 1), ('duplicates', 2), ('unavailable', 1), ('removing', 2), ('joining', 1), ('address', 2), ('reduced', 1), ('starting', 1), ('shows', 1), ('representing', 4), ('represented', 1), ('understand', 3), ('sample', 2), ('SmartBugs', 1), ('SmartSanctuary', 1), ('mostly', 1), ('date', 2), ('dated', 1), ('representativeness', 2), ('Categorization', 1), ('categorization', 2), ('said', 1), ('massive', 1), ('ways', 1), ('particular', 4), ('trivial', 1), ('check', 2), ('manually', 2), ('approach', 4), ('if', 2), ('dealing', 2), ('machine', 1), ('pattern', 1), ('observation', 1), ('comments', 1), ('Natural', 1), ('Language', 1), ('Processing', 1), ('know', 1), ('priorly', 1), ('unsupervised', 1), ('learning', 1), ('chosen', 1), ('topic', 5), ('modeling', 1), ('Latent', 1), ('Dirichlet', 1), ('Allocation', 1), ('assuming', 1), ('corresponds', 1), ('human', 1), ('language', 1), ('had', 1), ('preprocessing', 1), ('considering', 2), ('fundamental', 1), ('coherence', 1), ('optimal', 1), ('topics', 2), ('noticed', 1), ('resulting', 1), ('semi-supervised', 1), ('seeded', 2), ('assigning', 1), ('highest', 1), ('probability', 2), ('LDA', 1), ('dictionary', 1), ('seed', 2), ('words', 3), ('predefine', 1), ('biasing', 1), ('prior', 1), ('knowledge', 1), ('domain', 1), ('associating', 1), ('priori', 1), ('bound', 1), ('allowing', 1), ('withdraw', 1), ('category', 6), ('strictly', 2), ('correlated', 2), ('Ether', 3), ('Lock', 2), ('Time', 2), ('Bid', 1), ('auctions', 1), ('buy', 1), ('NFT', 1), ('simplify', 2), ('Constraints', 1), ('comply', 1), ('Gambling', 1), ('implementing', 1), ('Game', 1), ('differs', 1), ('shopping', 1), ('Money', 2), ('Investment', 1), ('Ponzi', 1), ('schemes', 1), ('operations', 2), ('deal', 1), ('exchange', 1), ('Wallet', 2), ('storing', 1), ('Sometimes', 1), ('documents', 1), ('unrelated', 1), ('Unknown', 1), ('Hello', 1), ('nonsense', 1), ('useless', 1), ('mathematical', 1), ('highlighting', 1), ('undoubtedly', 1), ('notice', 2), ('CNFT', 3), ('spreading', 1), ('overlaps', 1), ('launch', 1), ('November', 1), ('fewer', 1), ('Looking', 1), ('see', 1), ('exciting', 1), ('fascinating', 1), ('ELTC', 1), ('correlation', 1), ('Erthereum', 1), ('overused', 1), ('interest', 1), ('hugely', 1), ('FUTURE', 1), ('WORKS', 1), ('highlighted', 1), ('surprising', 1), ('Ethereum’s', 1), ('carried', 1), ('out', 1), ('contributed', 1), ('CNFTs', 1), ('exponentially', 1), ('witnessed', 1), ('recently', 1), ('Nike', 1), ('Adidas', 1), ('decreased', 1), ('considerably', 1), ('emphasized', 1), ('awareness', 1), ('CSV', 1), ('reporting', 1), ('lacking', 1), ('gathering', 1), ('gaining', 1), ('those', 1), ('confirming', 1), ('findings', 1), ('remaining', 1), ('soon', 1), ('spotted', 1), ('vulnerabilities', 1), ('exposure', 1)])"
      ]
     },
     "execution_count": 11,
     "metadata": {},
     "output_type": "execute_result"
    }
   ],
   "source": [
    "freq = nltk.FreqDist(tokens)\n",
    "tl = len(tokens)\n",
    "sum(freq.values())\n",
    "freq.items()"
   ]
  },
  {
   "cell_type": "code",
   "execution_count": 12,
   "id": "ad9a8c4c",
   "metadata": {},
   "outputs": [],
   "source": [
    "import nltk\n",
    "from nltk.util import ngrams\n",
    "freq = nltk.FreqDist(tokens)\n",
    "probs = {k: v/tl for (k,v) in freq.items()}\n",
    "pvals = list(probs.values())\n",
    "cumprobs = {k: sum(pvals[0:ix+1]) for ix, (k,v) in enumerate(probs.items())}"
   ]
  },
  {
   "cell_type": "markdown",
   "id": "aec20315",
   "metadata": {},
   "source": [
    "# probabilities"
   ]
  },
  {
   "cell_type": "code",
   "execution_count": 13,
   "id": "e290150d",
   "metadata": {},
   "outputs": [],
   "source": [
    "from operator import itemgetter\n",
    "import random\n",
    "random.seed(100)"
   ]
  },
  {
   "cell_type": "code",
   "execution_count": 14,
   "id": "f56724d6",
   "metadata": {},
   "outputs": [],
   "source": [
    "sprobs = dict(sorted(probs.items(), key=itemgetter(1), reverse=True))"
   ]
  },
  {
   "cell_type": "code",
   "execution_count": 15,
   "id": "7387fbec",
   "metadata": {},
   "outputs": [],
   "source": [
    "pvals = list(sprobs.values())\n",
    "cumprobs = {k:sum(pvals[0:ix+1]) for ix, (k,v) in enumerate(sprobs.items())}"
   ]
  },
  {
   "cell_type": "markdown",
   "id": "0ec33e0c",
   "metadata": {},
   "source": [
    "# Genereting Unigrams"
   ]
  },
  {
   "cell_type": "code",
   "execution_count": 16,
   "id": "94bfc667",
   "metadata": {},
   "outputs": [],
   "source": [
    "keys = list(cumprobs.keys())\n",
    "values = cumprobs.values()\n",
    "for i in range(10):\n",
    "    rn = random.random();\n",
    "    ix = [i for (i,v) in enumerate(values) if v > rn][0]"
   ]
  },
  {
   "cell_type": "code",
   "execution_count": 17,
   "id": "d72f6c33",
   "metadata": {},
   "outputs": [],
   "source": [
    "def gen_uni():\n",
    "    rn_b = random.random();\n",
    "    ix_b = [i_b for (i_b, v_b) in enumerate(values) if v_b > rn_b][0]\n",
    "    return keys[ix_b]"
   ]
  },
  {
   "cell_type": "code",
   "execution_count": 18,
   "id": "15b91707",
   "metadata": {},
   "outputs": [
    {
     "name": "stdout",
     "output_type": "stream",
     "text": [
      "the\n",
      "harm\n",
      "agencies\n",
      "with\n",
      "that\n",
      "works\n",
      "a\n",
      "to\n",
      "to\n",
      "which\n"
     ]
    }
   ],
   "source": [
    "for i in range(10):\n",
    "    print(gen_uni())"
   ]
  },
  {
   "cell_type": "markdown",
   "id": "6a2d566c",
   "metadata": {},
   "source": [
    "# Generating 5 10-word sentences"
   ]
  },
  {
   "cell_type": "code",
   "execution_count": 19,
   "id": "2a962ce1",
   "metadata": {},
   "outputs": [
    {
     "name": "stdout",
     "output_type": "stream",
     "text": [
      "sentence 1 :  zero-knowledge a need initial realize the business a instantiate application\n",
      "sentence 2 :  publishers research was being as time permissions still extending electronic\n",
      "sentence 3 :  Protection don’t number first mainly to where the is Internet\n",
      "sentence 4 :  central with of transactions a Signature shown maintained ensure to\n",
      "sentence 5 :  categorization a of difficult the by most nodes categories and\n"
     ]
    }
   ],
   "source": [
    "for n in range(5):\n",
    "    sent = []\n",
    "    start = \"\"\n",
    "    for i in range(10):\n",
    "        start = start + \" \"+(gen_uni())\n",
    "        sent.append(gen_uni())\n",
    "    print('sentence',n+1,\":\",start)"
   ]
  },
  {
   "cell_type": "markdown",
   "id": "2fcde78a",
   "metadata": {},
   "source": [
    "# Generating Bigrams"
   ]
  },
  {
   "cell_type": "code",
   "execution_count": 20,
   "id": "8285c065",
   "metadata": {},
   "outputs": [],
   "source": [
    "cfd_bigram = nltk.ConditionalFreqDist(nltk.bigrams(tokens))"
   ]
  },
  {
   "cell_type": "code",
   "execution_count": 21,
   "id": "de493cf8",
   "metadata": {},
   "outputs": [],
   "source": [
    "def gen_big(str):\n",
    "    freqb = cfd_bigram[str]\n",
    "    t1b = len(freqb)\n",
    "    probs_b = {k: v/t1b for (k,v) in freq.items()}\n",
    "    sprobs_b = dict(sorted(probs_b.items(), key=itemgetter(1), reverse=True))\n",
    "    pvals = list(sprobs_b, values())\n",
    "    cumprobs_b = {k: sum(pvals[0:ix+1]) for ix, (k,v) in enumerate(sprobs_b.items())}\n",
    "    keysb = list(cumprobs_b.keys())\n",
    "    valuesb = cumprobs_b.values()\n",
    "    rnb = random.random()\n",
    "    ix = [i for (i, v) in enumerate(values) if v > rnb][0]\n",
    "    return str,keysb[ix]"
   ]
  },
  {
   "cell_type": "markdown",
   "id": "166d961d",
   "metadata": {},
   "source": [
    "# Generating sentences using bigrams"
   ]
  },
  {
   "cell_type": "code",
   "execution_count": 22,
   "id": "d0b49311",
   "metadata": {},
   "outputs": [],
   "source": [
    "def gensen_b(n):\n",
    "    for i in range(n):\n",
    "        if i == 0:\n",
    "            wb1 = gen_uni()\n",
    "        else:\n",
    "            wbn1 = gen_big(wb1)\n",
    "            wb1 = wbn1[1]\n",
    "        print(wb1)"
   ]
  },
  {
   "cell_type": "markdown",
   "id": "ae71b912",
   "metadata": {},
   "source": [
    "# Generating Trigrams"
   ]
  },
  {
   "cell_type": "code",
   "execution_count": 23,
   "id": "b02a261c",
   "metadata": {},
   "outputs": [],
   "source": [
    "trigrams = nltk.trigrams(tokens)\n",
    "condition_pairs = (((w0, w1), w2) for w0, w1, w2 in trigrams)\n",
    "cfd_trigram = nltk.ConditionalFreqDist(condition_pairs)"
   ]
  },
  {
   "cell_type": "code",
   "execution_count": 24,
   "id": "2103d01a",
   "metadata": {},
   "outputs": [],
   "source": [
    "def gen_trig(tuple):\n",
    "    freq = cfd_trigram[tuple]\n",
    "    tlt = len(freqt)\n",
    "    probs_t = {k: v/t1t for (k,v) in freq.items()}\n",
    "    sprobs_t = dict(sorted(probs_t.items(), key=itemgetter(1), reverse=True))\n",
    "    pvalst = list(sprobs_t, values())\n",
    "    cumprobs_t = {k: sum(pvals[0:ix+1]) for ix, (k,v) in enumerate(sprobs_t.items())}\n",
    "    keyst = list(cumprobs_t.keys())\n",
    "    valuest = cumprobs_t.values()\n",
    "    rn = random.random()\n",
    "    ix = [i for (i, v) in enumerate(values) if v > rn][0]\n",
    "    return tuple[0],tuple[1],keyst[ix]"
   ]
  },
  {
   "cell_type": "markdown",
   "id": "ee14e9e5",
   "metadata": {},
   "source": [
    "# Generating 4-gram"
   ]
  },
  {
   "cell_type": "code",
   "execution_count": 25,
   "id": "6c03531a",
   "metadata": {},
   "outputs": [],
   "source": [
    "def gensen_t(n):\n",
    "    for i in range(n):\n",
    "        if i == 0:\n",
    "            wbb1 = gen_uni()\n",
    "            word1 = wbb1\n",
    "            print(word1)\n",
    "        if i == 1:\n",
    "            wbbn1 = gen_big(wbb1)\n",
    "            word2=wbbn1[1]\n",
    "            print(word2)\n",
    "        if i >=2:\n",
    "           wbbn2 = gen_trig(wbbn1)\n",
    "           wbbn1 = (wbbn2[-2],wbbn2[-1])\n",
    "           print(wbbn2[-1])"
   ]
  },
  {
   "cell_type": "code",
   "execution_count": 26,
   "id": "921862d1",
   "metadata": {},
   "outputs": [],
   "source": [
    "fgrams = nltk.ngrams(tokens,4)\n",
    "condition_pairs_f = (((w0, w1, w2),w3) for w0, w1, w2, w3 in fgrams)\n",
    "cfd_fgram = nltk.ConditionalFreqDist(condition_pairs_f)"
   ]
  },
  {
   "cell_type": "markdown",
   "id": "f073b5c2",
   "metadata": {},
   "source": [
    "# Generating Fourgram based on cumulative probabilities"
   ]
  },
  {
   "cell_type": "code",
   "execution_count": 27,
   "id": "05cd1861",
   "metadata": {},
   "outputs": [],
   "source": [
    "def gen_4grm(tuple):\n",
    "    freqf=cfd_fgram[tuple]\n",
    "    tlf = len(freqf)\n",
    "    probs_f = {k: v/tlf for (k,v) in freqf.items()}\n",
    "    sprobs_f = dict(sorted(probs_f.items(), key=itemgetter(1), reverse=True)) #sorted probabilities\n",
    "    pvalsf = list(sprobs_f.values())\n",
    "    cumprobs_f = {k: sum(pvalsf[0:ix+1]) for ix, (k,v) in enumerate(sprobs_f.items())}\n",
    "    keysf = list(cumprobs_f.keys())\n",
    "    valuesf = cumprobs_f.values()\n",
    "    rn =random.random()\n",
    "    ix = [i for (i, v) in enumerate(valuesf) if v > rn][0]\n",
    "    return tuple[0],tuple[1],tuple[2],keysf[ix]"
   ]
  },
  {
   "cell_type": "markdown",
   "id": "f6f13241",
   "metadata": {},
   "source": [
    "# Generating sentences of n words using 4-grams"
   ]
  },
  {
   "cell_type": "code",
   "execution_count": 28,
   "id": "f3352c09",
   "metadata": {},
   "outputs": [],
   "source": [
    "def gensen_f(n):\n",
    "    for i in range(n):\n",
    "        if i == 0:\n",
    "            wbb1 = gen_uni()\n",
    "            word1 = wbb1\n",
    "            print(word1)\n",
    "        if i == 1:\n",
    "            wbbn1 = gen_big(wbb1)\n",
    "            word2=wbbn1[1]\n",
    "            print(word2)\n",
    "        if i ==2:\n",
    "           wbbn2 = gen_trig(wbbn1)\n",
    "           wbbn1 = (wbbn2[-2],wbbn2[-1])\n",
    "           word3 = wbbn2[-1]\n",
    "           print(word3)\n",
    "        if i >=3:\n",
    "            wbbn3 = gen_4grm(wbbn2)\n",
    "            wbbn2 = (wbbn3[-3],wbbn3[-2],wbbn3[-1])\n",
    "            print(wbbn3[-1])"
   ]
  },
  {
   "cell_type": "code",
   "execution_count": null,
   "id": "080cbbf3",
   "metadata": {},
   "outputs": [],
   "source": []
  }
 ],
 "metadata": {
  "kernelspec": {
   "display_name": "Python 3 (ipykernel)",
   "language": "python",
   "name": "python3"
  },
  "language_info": {
   "codemirror_mode": {
    "name": "ipython",
    "version": 3
   },
   "file_extension": ".py",
   "mimetype": "text/x-python",
   "name": "python",
   "nbconvert_exporter": "python",
   "pygments_lexer": "ipython3",
   "version": "3.9.12"
  }
 },
 "nbformat": 4,
 "nbformat_minor": 5
}
