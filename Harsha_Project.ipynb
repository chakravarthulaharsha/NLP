{
 "cells": [
  {
   "cell_type": "code",
   "execution_count": 22,
   "id": "ee814a5c-017a-442e-8a35-5e0859449e7a",
   "metadata": {},
   "outputs": [],
   "source": [
    "import urllib3\n",
    "from bs4 import BeautifulSoup as beautifulsoup\n",
    "import nltk\n",
    "import re\n",
    "import docx2txt"
   ]
  },
  {
   "cell_type": "code",
   "execution_count": 23,
   "id": "f38b491e-17ee-42e7-a0b1-f86dc817e780",
   "metadata": {},
   "outputs": [
    {
     "name": "stdout",
     "output_type": "stream",
     "text": [
      "====================\n",
      "Converted doc to txt\n"
     ]
    }
   ],
   "source": [
    "# Input data and Convert to text file\n",
    "docxFilename = '5 papers related to blockchain.docx'\n",
    "with open(docxFilename, 'rb') as infile:\n",
    "    outfile = open(docxFilename[:-5]+'.txt', 'w', encoding='utf-8')\n",
    "    doc = docx2txt.process(infile)\n",
    "    outfile.write(doc)\n",
    "outfile.close()\n",
    "infile.close()\n",
    "print(\"====================\")\n",
    "print(\"Converted doc to txt\")"
   ]
  },
  {
   "cell_type": "code",
   "execution_count": 24,
   "id": "3b757626-5dc8-46bf-bccf-2e43f5f691ba",
   "metadata": {},
   "outputs": [],
   "source": [
    "# Data Cleaning\n",
    "d=[]\n",
    "with open(\"5 papers related to blockchain.txt\", encoding='utf-8') as data_file:\n",
    "    for line in data_file:\n",
    "        d.append(line)\n",
    "for i in range(len(d)):\n",
    "    d[i] = d[i].replace(\"\\n\",\"\")\n",
    "d = [re.sub(r'\\n', ' ', i) for i in d] \n",
    "d = [re.sub(r'\\d+', '', i) for i in d]\n",
    "d = [re.sub(r'\\s+', ' ',i)  for i in d]\n",
    "d = [i.replace('-', ' ') for i in d]\n",
    "d = [i.replace('/', ' ') for i in d]\n",
    "d = [re.sub(r'[^\\w\\s]', '', i) for i in d]\n",
    "d = [re.sub(r' \\w ', '', i) for i in d]\n",
    "while(\"\" in d):\n",
    "    d.remove(\"\")"
   ]
  },
  {
   "cell_type": "code",
   "execution_count": 25,
   "id": "e31869b0-ee1c-4844-8ced-ddb9e7b0551c",
   "metadata": {},
   "outputs": [
    {
     "name": "stdout",
     "output_type": "stream",
     "text": [
      "the\n",
      "be\n",
      "for\n",
      "integration\n",
      "repository\n",
      "networks\n",
      "and\n",
      "at\n",
      "the\n",
      "for\n"
     ]
    }
   ],
   "source": [
    "# for unigram formation\n",
    "tokens = [t for l in d for t in l.split() ]\n",
    "freq = nltk.FreqDist(tokens)\n",
    "tl = len(tokens)\n",
    "sum(freq.values())\n",
    "probs = {k: v/tl for (k,v) in freq.items()}\n",
    "from operator import itemgetter\n",
    "sprobs = dict(sorted(probs.items(), key=itemgetter(1), reverse=True))\n",
    "pvals = list(sprobs.values())\n",
    "cumprobs = {k: sum(pvals[0:ix+1]) for ix, (k,v) in enumerate(sprobs.items())}\n",
    "import random\n",
    "random.seed(42)\n",
    "random.random()\n",
    "keys = list(cumprobs.keys())\n",
    "values = cumprobs.values()\n",
    "for i in range(10):\n",
    "    rn = random.random()\n",
    "    ix = [i for (i, v) in enumerate(values) if v > rn][0]\n",
    "    print(keys[ix])"
   ]
  },
  {
   "cell_type": "code",
   "execution_count": 26,
   "id": "ff4aac5e-af55-43dd-a7c4-9b014afdfbbf",
   "metadata": {},
   "outputs": [],
   "source": [
    "# defining unigram \n",
    "def unigram():\n",
    "    rn_b = random.random()\n",
    "    ix_b = [i_b for (i_b, v_b) in enumerate(values) if v_b > rn_b][0]\n",
    "    return keys[ix_b]"
   ]
  },
  {
   "cell_type": "code",
   "execution_count": 27,
   "id": "f8dcb319-b2b2-4e78-9017-8276a408e484",
   "metadata": {},
   "outputs": [
    {
     "name": "stdout",
     "output_type": "stream",
     "text": [
      "Sentence 1 :  years blockchain Smart proof the formulate to financial and issues\n",
      "Sentence 2 :  level onlyfew Bitcoin recent ofblockchain the technology contracts with certification\n",
      "Sentence 3 :  in domestic stakeholders libraries has further publication understanding the as\n",
      "Sentence 4 :  undertake smart have However are on ideal for protocol the\n",
      "Sentence 5 :  doi at information state trilemma energy over previously development Blockcerts\n"
     ]
    }
   ],
   "source": [
    "# Generating Sentences\n",
    "for n in range(5):\n",
    "    sentence = []\n",
    "    start = \"\"\n",
    "    for i in range(10):\n",
    "        start = start + \" \"+(unigram())\n",
    "        sentence.append(unigram())\n",
    "    print('Sentence',n+1,\":\",start)"
   ]
  },
  {
   "cell_type": "code",
   "execution_count": 28,
   "id": "6d188701-98ff-40e2-bcff-890fe5b22057",
   "metadata": {},
   "outputs": [
    {
     "name": "stdout",
     "output_type": "stream",
     "text": [
      "smart contracts\n",
      "model which\n",
      "so we\n",
      "ICBCTIS pp\n",
      "has issuedjudicial\n",
      "organized reasoned\n",
      "contracts and\n",
      "the propagation\n",
      "of blockchain\n",
      "was to\n"
     ]
    }
   ],
   "source": [
    "# for Bigram formation\n",
    "res = [[x, i.split()[j + 1]] for i in d\n",
    "       for j, x in enumerate(i.split()) if j < len(i.split()) - 1]\n",
    "tokens = [t for l in d for t in l.split() ]\n",
    "bi_tokens=[]\n",
    "for i in res:\n",
    "    bi_tokens.append(' '.join(i))\n",
    "freq = nltk.FreqDist(bi_tokens)\n",
    "tl = len(bi_tokens)\n",
    "probs = {k: v/tl for (k,v) in freq.items()}\n",
    "from operator import itemgetter\n",
    "sprobs = dict(sorted(probs.items(), key=itemgetter(1), reverse=True))\n",
    "pvals = list(sprobs.values())\n",
    "cumprobs = {k: sum(pvals[0:ix+1]) for ix, (k,v) in enumerate(sprobs.items())}\n",
    "import random\n",
    "random.seed(42)\n",
    "random.random()\n",
    "keys = list(cumprobs.keys())\n",
    "values = cumprobs.values()\n",
    "for i in range(10):\n",
    "    rn = random.random();\n",
    "    ix = [i for (i, v) in enumerate(values) if v > rn][0]\n",
    "    print(keys[ix])"
   ]
  },
  {
   "cell_type": "code",
   "execution_count": 29,
   "id": "11178cbe-b8a9-4e36-bf25-2883a60da8ca",
   "metadata": {},
   "outputs": [],
   "source": [
    "t=[]\n",
    "for i in freq:\n",
    "    t.append((i.split()))"
   ]
  },
  {
   "cell_type": "code",
   "execution_count": 30,
   "id": "c23022ad-861e-4e2d-b6a9-b1fe0edeaf6a",
   "metadata": {},
   "outputs": [],
   "source": [
    "# Generate sentence using bigram model\n",
    "def bigram_sentance_generator(t,tokens):\n",
    "    for i in range(5):\n",
    "        sentence = \" \"\n",
    "        for j in range(10):\n",
    "            choices = [i[1] for i in t if i[0] == tokens]\n",
    "            if choices:\n",
    "                token = random.choice(choices)\n",
    "            else:\n",
    "                token = random.choice(tokens)\n",
    "            sentence += token + \" \"\n",
    "        print(\"bigram sentence:\", sentence.strip())"
   ]
  },
  {
   "cell_type": "code",
   "execution_count": 31,
   "id": "320417fd-dcff-4277-a9d5-2d82962d4814",
   "metadata": {},
   "outputs": [
    {
     "name": "stdout",
     "output_type": "stream",
     "text": [
      "bigram sentence: so How the can the Conclusion detailed was finance In\n",
      "bigram sentence: create smart the orderly Based of etc review attribution chain\n",
      "bigram sentence: to is related However what programs number fields recorded widely\n",
      "bigram sentence: technology not proposed B reads an its and However The\n",
      "bigram sentence: working the of differences the products At degree of intimely\n"
     ]
    }
   ],
   "source": [
    "bigram_sentance_generator(t,tokens)"
   ]
  },
  {
   "cell_type": "code",
   "execution_count": 32,
   "id": "7a9ab637-7514-4edd-9de2-4070943f981c",
   "metadata": {},
   "outputs": [],
   "source": [
    "# for trigram formation\n",
    "tri_tokens = []\n",
    "for i in range(len(tokens)-2):\n",
    "    tri_tokens.append(' '.join([tokens[i],tokens[i+1],tokens[i+2]]))"
   ]
  },
  {
   "cell_type": "code",
   "execution_count": 33,
   "id": "b7895d18-f2ec-4b85-b62c-202693cda2df",
   "metadata": {},
   "outputs": [
    {
     "name": "stdout",
     "output_type": "stream",
     "text": [
      "the off chain\n",
      "decides what constitutespeer\n",
      "data visualizations by\n",
      "To maintain the\n",
      "formcomplete chain This\n",
      "retrieve the deploy\n",
      "the blockchain financial\n",
      "nodes follow the\n",
      "the implementation of\n",
      "nodes that act\n"
     ]
    }
   ],
   "source": [
    "freq = nltk.FreqDist(tri_tokens)\n",
    "tl = len(tri_tokens)\n",
    "probs = {k: v/tl for (k,v) in freq.items()}\n",
    "from operator import itemgetter\n",
    "sprobs = dict(sorted(probs.items(), key=itemgetter(1), reverse=True))\n",
    "pvals = list(sprobs.values())\n",
    "cumprobs = {k: sum(pvals[0:ix+1]) for ix, (k,v) in enumerate(sprobs.items())}\n",
    "import random\n",
    "random.seed(42)\n",
    "random.random()\n",
    "keys = list(cumprobs.keys())\n",
    "values = cumprobs.values()\n",
    "for i in range(10):\n",
    "    rn = random.random();\n",
    "    ix = [i for (i, v) in enumerate(values) if v > rn][0]\n",
    "    print(keys[ix])"
   ]
  },
  {
   "cell_type": "code",
   "execution_count": 34,
   "id": "112a965e-7e94-44cb-8406-d67af383e656",
   "metadata": {},
   "outputs": [],
   "source": [
    "t=[]\n",
    "for i in freq:\n",
    "    t.append((i.split()))"
   ]
  },
  {
   "cell_type": "code",
   "execution_count": 35,
   "id": "2029f714-357d-4c86-a704-344c231d7f97",
   "metadata": {},
   "outputs": [],
   "source": [
    "# Generate sentence using trigram model\n",
    "def trigram_sentance_generator(t):\n",
    "    token = t\n",
    "    for i in range(5):\n",
    "        sentence = \" \"\n",
    "        for j in range(10):\n",
    "            choices = [i[1] for i in t if i[0] == token]\n",
    "            if choices:\n",
    "                token = random.choice(choices)\n",
    "            else:\n",
    "                token = random.choice(tokens)\n",
    "            sentence += token + \" \"\n",
    "        print(\"trigram sentence:\", sentence.strip())"
   ]
  },
  {
   "cell_type": "code",
   "execution_count": 36,
   "id": "f5c24963-ef9c-43ed-8115-c6d4769edebc",
   "metadata": {},
   "outputs": [
    {
     "name": "stdout",
     "output_type": "stream",
     "text": [
      "trigram sentence: so that the system application to better regulate the peer\n",
      "trigram sentence: review count the research and the bloxberg usesproof ofauthority consensus\n",
      "trigram sentence: algorithms provide reliability simple storage structure is the analysis the\n",
      "trigram sentence: architecture of transactions Once needed further authenticate other repositories containingsignificant\n",
      "trigram sentence: amount of Internet Internet finance and from the core technologies\n"
     ]
    }
   ],
   "source": [
    "trigram_sentance_generator(t)"
   ]
  },
  {
   "cell_type": "code",
   "execution_count": 37,
   "id": "b24e193a-79ae-4969-ac4b-5bde7f023a91",
   "metadata": {},
   "outputs": [],
   "source": [
    "# for Four gram formation\n",
    "four_tokens = []\n",
    "for i in range(len(tokens)-3):\n",
    "    four_tokens.append(' '.join([tokens[i],tokens[i+1],tokens[i+2],tokens[i+3]]))"
   ]
  },
  {
   "cell_type": "code",
   "execution_count": 38,
   "id": "8ac63ea9-748e-4b41-8efc-7e581fac24d7",
   "metadata": {},
   "outputs": [
    {
     "name": "stdout",
     "output_type": "stream",
     "text": [
      "manner At present the\n",
      "the contract personally identifiable\n",
      "our system upon blockchain\n",
      "verification and query Verification\n",
      "data to the underlying\n",
      "to understand the aim\n",
      "forproposed blockchain benchmarking framework\n",
      "entities from exercising the\n",
      "the alliance chain to\n",
      "However in the current\n"
     ]
    }
   ],
   "source": [
    "freq = nltk.FreqDist(four_tokens)\n",
    "tl = len(four_tokens)\n",
    "probs = {k: v/tl for (k,v) in freq.items()}\n",
    "from operator import itemgetter\n",
    "sprobs = dict(sorted(probs.items(), key=itemgetter(1), reverse=True))\n",
    "pvals = list(sprobs.values())\n",
    "cumprobs = {k: sum(pvals[0:ix+1]) for ix, (k,v) in enumerate(sprobs.items())}\n",
    "import random\n",
    "random.seed(42)\n",
    "random.random()\n",
    "keys = list(cumprobs.keys())\n",
    "values = cumprobs.values()\n",
    "for i in range(10):\n",
    "    rn = random.random();\n",
    "    ix = [i for (i, v) in enumerate(values) if v > rn][0]\n",
    "    print(keys[ix])"
   ]
  },
  {
   "cell_type": "code",
   "execution_count": 39,
   "id": "1948a7e8-2090-404a-aaf7-6dead6c5a17b",
   "metadata": {},
   "outputs": [],
   "source": [
    "t=[]\n",
    "for i in freq:\n",
    "    t.append((i.split()))"
   ]
  },
  {
   "cell_type": "code",
   "execution_count": 40,
   "id": "f00cc01c-342c-4c21-9ee0-ba0e82827ab4",
   "metadata": {},
   "outputs": [],
   "source": [
    "# Generate sentence using four gram model\n",
    "def fourgram_sentance_generator(t,tokens):\n",
    "    token = t\n",
    "    for i in range(5):\n",
    "        sentence = \" \"\n",
    "        for j in range(10):\n",
    "            choices = [i[1] for i in t if i[0] == token]\n",
    "            if choices:\n",
    "                token = random.choice(choices)\n",
    "            else:\n",
    "                token = random.choice(tokens)\n",
    "            sentence += token + \" \"\n",
    "        print(\"fourgram sentence:\", sentence.strip())"
   ]
  },
  {
   "cell_type": "code",
   "execution_count": 41,
   "id": "75f5ab14-f826-45c6-89d9-61ace4e675b8",
   "metadata": {},
   "outputs": [
    {
     "name": "stdout",
     "output_type": "stream",
     "text": [
      "fourgram sentence: so that can invest in the legal the macro level\n",
      "fourgram sentence: of blockchain and regulations cannot be verified by the nodes\n",
      "fourgram sentence: The contract categorization in the selected blockchain technology to the\n",
      "fourgram sentence: blockchain technology is mainly contracts whose popularity has important part\n",
      "fourgram sentence: However the governance in the macro level of blockchain and\n"
     ]
    }
   ],
   "source": [
    "fourgram_sentance_generator(t,tokens)"
   ]
  }
 ],
 "metadata": {
  "kernelspec": {
   "display_name": "Python 3 (ipykernel)",
   "language": "python",
   "name": "python3"
  },
  "language_info": {
   "codemirror_mode": {
    "name": "ipython",
    "version": 3
   },
   "file_extension": ".py",
   "mimetype": "text/x-python",
   "name": "python",
   "nbconvert_exporter": "python",
   "pygments_lexer": "ipython3",
   "version": "3.8.10"
  }
 },
 "nbformat": 4,
 "nbformat_minor": 5
}
